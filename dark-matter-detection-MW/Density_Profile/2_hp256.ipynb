{
 "cells": [
  {
   "cell_type": "code",
   "execution_count": 1,
   "metadata": {},
   "outputs": [],
   "source": [
    "import numpy as np\n",
    "import pandas as pd\n",
    "import healpy as hp"
   ]
  },
  {
   "cell_type": "code",
   "execution_count": 2,
   "metadata": {},
   "outputs": [],
   "source": [
    "# 1. Healpix grid\n",
    "\n",
    "# https://lambda.gsfc.nasa.gov/toolbox/tb_pixelcoords.cfm\n",
    "nside = 256\n",
    "npixs = hp.nside2npix(nside)\n",
    "lumMap = pd.DataFrame(list(range(npixs)), columns=['hp'])\n",
    "\n",
    "lumMap['long'],lumMap['lat']  = hp.pix2ang(nside, lumMap['hp'], lonlat=True)\n",
    "lumMap['Long'] = 2*np.pi*lumMap['long']/360\n",
    "lumMap['Lat'] = 2*np.pi*lumMap['lat']/360"
   ]
  },
  {
   "cell_type": "code",
   "execution_count": 3,
   "metadata": {},
   "outputs": [],
   "source": [
    "r_mw1 = 45\n",
    "r_mw2 = 300\n",
    "r_mw3 = 600 # 45 kpc for I, 300 kpc for II, 600 kpc for III\n",
    "r_sc = 8.2 # 8.2 kpc\n",
    "lumMap['cos'] = np.cos(lumMap['Lat'])*np.cos(lumMap['Long'])\n",
    "lumMap['sin2'] = 1 - lumMap['cos'] * lumMap['cos']\n",
    "lumMap['r1'] = np.sqrt(r_mw1 * r_mw1 - lumMap['sin2'] * r_sc * r_sc) + r_sc * lumMap['cos']\n",
    "lumMap['r2'] = np.sqrt(r_mw2 * r_mw2 - lumMap['sin2'] * r_sc * r_sc) + r_sc * lumMap['cos']\n",
    "lumMap['r3'] = np.sqrt(r_mw3 * r_mw3 - lumMap['sin2'] * r_sc * r_sc) + r_sc * lumMap['cos']\n",
    "lumMap.drop(['cos', 'sin2'], axis = 1, inplace = True)\n",
    "lumMap.to_csv('hpLumin.csv')"
   ]
  },
  {
   "cell_type": "code",
   "execution_count": 4,
   "metadata": {},
   "outputs": [
    {
     "data": {
      "text/html": [
       "<div>\n",
       "<style scoped>\n",
       "    .dataframe tbody tr th:only-of-type {\n",
       "        vertical-align: middle;\n",
       "    }\n",
       "\n",
       "    .dataframe tbody tr th {\n",
       "        vertical-align: top;\n",
       "    }\n",
       "\n",
       "    .dataframe thead th {\n",
       "        text-align: right;\n",
       "    }\n",
       "</style>\n",
       "<table border=\"1\" class=\"dataframe\">\n",
       "  <thead>\n",
       "    <tr style=\"text-align: right;\">\n",
       "      <th></th>\n",
       "      <th>hp</th>\n",
       "      <th>long</th>\n",
       "      <th>lat</th>\n",
       "      <th>Long</th>\n",
       "      <th>Lat</th>\n",
       "      <th>r1</th>\n",
       "      <th>r2</th>\n",
       "      <th>r3</th>\n",
       "    </tr>\n",
       "  </thead>\n",
       "  <tbody>\n",
       "    <tr>\n",
       "      <th>0</th>\n",
       "      <td>0</td>\n",
       "      <td>45.0</td>\n",
       "      <td>89.817258</td>\n",
       "      <td>0.785398</td>\n",
       "      <td>1.567607</td>\n",
       "      <td>44.265079</td>\n",
       "      <td>299.906406</td>\n",
       "      <td>599.962458</td>\n",
       "    </tr>\n",
       "    <tr>\n",
       "      <th>1</th>\n",
       "      <td>1</td>\n",
       "      <td>135.0</td>\n",
       "      <td>89.817258</td>\n",
       "      <td>2.356194</td>\n",
       "      <td>1.567607</td>\n",
       "      <td>44.228092</td>\n",
       "      <td>299.869420</td>\n",
       "      <td>599.925471</td>\n",
       "    </tr>\n",
       "    <tr>\n",
       "      <th>2</th>\n",
       "      <td>2</td>\n",
       "      <td>225.0</td>\n",
       "      <td>89.817258</td>\n",
       "      <td>3.926991</td>\n",
       "      <td>1.567607</td>\n",
       "      <td>44.228092</td>\n",
       "      <td>299.869420</td>\n",
       "      <td>599.925471</td>\n",
       "    </tr>\n",
       "    <tr>\n",
       "      <th>3</th>\n",
       "      <td>3</td>\n",
       "      <td>315.0</td>\n",
       "      <td>89.817258</td>\n",
       "      <td>5.497787</td>\n",
       "      <td>1.567607</td>\n",
       "      <td>44.265079</td>\n",
       "      <td>299.906406</td>\n",
       "      <td>599.962458</td>\n",
       "    </tr>\n",
       "    <tr>\n",
       "      <th>4</th>\n",
       "      <td>4</td>\n",
       "      <td>22.5</td>\n",
       "      <td>89.634517</td>\n",
       "      <td>0.392699</td>\n",
       "      <td>1.564417</td>\n",
       "      <td>44.294933</td>\n",
       "      <td>299.936241</td>\n",
       "      <td>599.992291</td>\n",
       "    </tr>\n",
       "  </tbody>\n",
       "</table>\n",
       "</div>"
      ],
      "text/plain": [
       "   hp   long        lat      Long       Lat         r1          r2          r3\n",
       "0   0   45.0  89.817258  0.785398  1.567607  44.265079  299.906406  599.962458\n",
       "1   1  135.0  89.817258  2.356194  1.567607  44.228092  299.869420  599.925471\n",
       "2   2  225.0  89.817258  3.926991  1.567607  44.228092  299.869420  599.925471\n",
       "3   3  315.0  89.817258  5.497787  1.567607  44.265079  299.906406  599.962458\n",
       "4   4   22.5  89.634517  0.392699  1.564417  44.294933  299.936241  599.992291"
      ]
     },
     "execution_count": 4,
     "metadata": {},
     "output_type": "execute_result"
    }
   ],
   "source": [
    "lumMap.head()"
   ]
  }
 ],
 "metadata": {
  "kernelspec": {
   "display_name": "Python 3",
   "language": "python",
   "name": "python3"
  },
  "language_info": {
   "codemirror_mode": {
    "name": "ipython",
    "version": 3
   },
   "file_extension": ".py",
   "mimetype": "text/x-python",
   "name": "python",
   "nbconvert_exporter": "python",
   "pygments_lexer": "ipython3",
   "version": "3.7.0"
  }
 },
 "nbformat": 4,
 "nbformat_minor": 2
}
